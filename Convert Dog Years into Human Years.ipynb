{
 "cells": [
  {
   "cell_type": "markdown",
   "metadata": {
    "deletable": false,
    "editable": false,
    "nbgrader": {
     "cell_type": "markdown",
     "checksum": "154f81026f072af580cc46b9513afb32",
     "grade": false,
     "grade_id": "cell-37b1bbf6f43609e8",
     "locked": true,
     "schema_version": 3,
     "solution": false,
     "task": false
    }
   },
   "source": [
    "## “How Old is Your Dog in Human Years?” Calculator\n",
    "\n",
    "In this assignment, you will write a program that calculates a dog’s age in human years.\n",
    "The program will prompt the user for an age in dog years and calculate that age in human years.\n",
    "Allow for int or float values, but check the user’s input to make sure it's valid -- it should be numeric and positive.\n",
    "Otherwise, let the user know their input is not valid.\n",
    "\n",
    "You can use the following rules to approximately convert a medium-sized dog’s age to human years:\n",
    "- For the first year, one dog year is equal to 15 human years\n",
    "- For the first 2 years, each dog year is equal to 12 human years\n",
    "- For the first 3 years, each dog year is equal to 9.3 human years\n",
    "- For the first 4 years, each dog year is equal to 8 human years\n",
    "- For the first 5 years, each dog year is equal to 7.2 human years\n",
    "- After that, each dog year is equal to 7 human years.  (Note: This means the first 5 dog years are\n",
    "equal to 36 human years (5 * 7.2) and the remaining dog years are equal to 7 human years each.)\n",
    "\n",
    "Print the result in the following format, substituting for **dog_age** and **human_age**: \"The given dog age **dog_age**\n",
    "is **human_age** in human years.\"  Round the result to 2 decimal places.  Note: If there is a 0 in the hundredths place,\n",
    "you can drop it, e.g. 24.00 can be displayed as 24.0."
   ]
  },
  {
   "cell_type": "markdown",
   "metadata": {
    "deletable": false,
    "editable": false,
    "nbgrader": {
     "cell_type": "markdown",
     "checksum": "72eb13f1c11b5b3cd7ce48f3d308dbfe",
     "grade": false,
     "grade_id": "cell-0c0dc63d680400fc",
     "locked": true,
     "schema_version": 3,
     "solution": false,
     "task": false
    }
   },
   "source": [
    "Considering invalid inputs:\n",
    "* Your program must ask the user for an age in dog years - hint: use the input() function\n",
    "* We are going to test invalid inputs - make sure that your code can handle negative value inputs and non-numerical inputs!\n",
    "* For invalid inputs, make sure that your printed response adheres to the following:\n",
    " - If a text-based input is provided, make sure your response contains the word 'invalid'.  \n",
    " - If a negative input is provided, make sure your response contains the word 'negative'.  "
   ]
  },
  {
   "cell_type": "markdown",
   "metadata": {
    "deletable": false,
    "editable": false,
    "nbgrader": {
     "cell_type": "markdown",
     "checksum": "b68dcc266a75abe4bcbc3cba719b22db",
     "grade": false,
     "grade_id": "cell-a4d0c343d92b3609",
     "locked": true,
     "schema_version": 3,
     "solution": false,
     "task": false
    }
   },
   "source": [
    "## A note on defining functions\n",
    "\n",
    "Defining a function refers to the act of creating a function using the `def` keyword and giving it a name, as well as any arguments that need to be available in the body of the function. We'll see more about functions later in the course, but below the `def calculator():` line is the beginning of a function declaration, with all of the indented lines below it as the body of the function.\n",
    "\n",
    "Similar to the way we name variables, a function may not contain spaces or special characters, with the exception of the underscore (`_`). Below are some examples of functions being defined.\n",
    "\n",
    "```python\n",
    "def say_hello():\n",
    "    print(\"Hello!\")\n",
    "```\n",
    "The above function named `say_hello` prints the word `\"Hello!\"`. It takes in no arguments - that is, there is nothing being passed into the function inside of the parentheses that would be available to the body of the function. Let's look an another example that does contain an argument:\n",
    "\n",
    "```python\n",
    "def say_something_specific(thing_to_say):\n",
    "    print(thing_to_say)\n",
    "```\n",
    "Here we have a function named `say_something_specific` with an argument `thing_to_say`. The argument could be anything (whenever we decide to call this function, we'll pass in whatever we'd like at the time we call it) and will be printed out similar to the way `\"Hello!\"` was printed in the first function.\n",
    "\n",
    "```python\n",
    "def number_sum(num1, num2):\n",
    "    sum = num1 + num2\n",
    "    print(\"Sum is\", sum)\n",
    "    return sum\n",
    "```\n",
    "This function, `number_sum`, takes in two arguments separated by commas, named `num1` and `num2`. Arguments are essentially variables that are accessible throughout the function body. In this case, a variable `sum` is created with a value equal to the sum of our two arguments, `num1` and `num2`. We then print out `\"Sum is <sum>\"`, then finally **return** the sum. The return allows us to get a value out of the function after it's done executing. Whatever follows the `return` keyword will be sent back to the location in your code where the function was called. Let's take a look at one more example of how a function could be defined, then used in code. We'll use the function that we just created, `number_sum`.\n",
    "\n",
    "```python\n",
    "# ...\n",
    "\n",
    "a = 5\n",
    "b = 3\n",
    "sum_a_b = number_sum(a, b) \n",
    "# At this point in the code, number_sum returned a (5) + b (3) = 8, so the value of\n",
    "# sum_a_b = 8\n",
    "\n",
    "sum_x_y = number_sum(10, 20)\n",
    "# After the above line is executed, sum_x_y will be equal to 30\n",
    "```"
   ]
  },
  {
   "cell_type": "code",
   "execution_count": 15,
   "metadata": {
    "deletable": false,
    "name": "multiply",
    "nbgrader": {
     "cell_type": "code",
     "checksum": "9ef53ed7a44f5b2073eeea241310e43c",
     "grade": false,
     "grade_id": "dog",
     "locked": false,
     "schema_version": 3,
     "solution": true,
     "task": false
    }
   },
   "outputs": [
    {
     "name": "stdout",
     "output_type": "stream",
     "text": [
      "Input dog years: 2\n",
      "The given dog age 2 is 24.0 in human years.\n"
     ]
    }
   ],
   "source": [
    "import traceback\n",
    "\n",
    "def calculator():\n",
    "    \n",
    "    # Get dog age\n",
    "    age = input(\"Input dog years: \")\n",
    "    d_age = 0\n",
    "\n",
    "    try:\n",
    "        # Cast to float\n",
    "        d_age = float(age)\n",
    "\n",
    "        # If user enters negative number, print message\n",
    "        # Otherwise, calculate dog's age in human years\n",
    "    \n",
    "        # your code here\n",
    "        if d_age <= 0:\n",
    "            raise NameError\n",
    "        elif d_age >= 5:\n",
    "            d_age = ((d_age - 5) * 7 + 36)\n",
    "          \n",
    "        elif d_age <= 1:\n",
    "            d_age = (d_age * 15)\n",
    "            \n",
    "        elif d_age <= 2:\n",
    "            d_age = (d_age * 12)\n",
    "            \n",
    "        elif d_age <= 3:\n",
    "            d_age = (d_age * 9.3)\n",
    "           \n",
    "        elif d_age <= 4:\n",
    "            d_age = (d_age * 8)\n",
    "            \n",
    "        elif d_age <= 5:\n",
    "            d_age = (d_age * 7.2)\n",
    "\n",
    "    except ValueError:\n",
    "        print(\"entered age is invalid!\")\n",
    "    except NameError:\n",
    "        print(\"Please enter a non negative age\")\n",
    "    print(\"The given dog age\", age, \"is\", round(d_age, 2), \"in human years.\")\n",
    "    \n",
    "calculator() # This line calls the calculator function"
   ]
  },
  {
   "cell_type": "code",
   "execution_count": 16,
   "metadata": {
    "deletable": false,
    "editable": false,
    "nbgrader": {
     "cell_type": "code",
     "checksum": "ca1eeec4b260a0ae3c37f292798a18a9",
     "grade": true,
     "grade_id": "test_1",
     "locked": true,
     "points": 1,
     "schema_version": 3,
     "solution": false,
     "task": false
    }
   },
   "outputs": [
    {
     "name": "stdout",
     "output_type": "stream",
     "text": [
      "Received the below output from your program:\n",
      "---------------\n",
      "'The given dog age 1 is 15.0 in human years.\n",
      "'\n",
      "Success!\n"
     ]
    }
   ],
   "source": [
    "##########################\n",
    "### TEST YOUR SOLUTION ###\n",
    "##########################\n",
    "import checker\n",
    "checker.calculator = calculator\n",
    "\n",
    "print(\"Received the below output from your program:\\n---------------\\n'{}'\".format(checker.test_one(1)))    \n",
    "checker.assert_almost_equal(\n",
    "    checker.parse_dog_age(checker.test_one(1)), \n",
    "    15, \n",
    "    \"Expected a 1 year old dog to be 15 in human years. Make sure your print statement is formatted as:\\n\\t \\\n",
    "    'The given dog age <input_value> is <calculated_age> in human years.'\")\n",
    "print(\"Success!\")"
   ]
  },
  {
   "cell_type": "code",
   "execution_count": null,
   "metadata": {
    "deletable": false,
    "editable": false,
    "nbgrader": {
     "cell_type": "code",
     "checksum": "0b3534b0e3a11ce79e4f1881128b8792",
     "grade": true,
     "grade_id": "test_2",
     "locked": true,
     "points": 1,
     "schema_version": 3,
     "solution": false,
     "task": false
    }
   },
   "outputs": [],
   "source": [
    "##########################\n",
    "### TEST YOUR SOLUTION ###\n",
    "##########################\n",
    "import checker\n",
    "checker.calculator = calculator\n",
    "\n",
    "print(\"Received the below output from your program:\\n---------------\\n'{}'\".format(checker.test_two(2)))    \n",
    "checker.assert_almost_equal(checker.parse_dog_age(checker.test_two(2)), 24, \n",
    "    \"Expected a 2 year old dog to be 24 in human years. Make sure your print statement is formatted as:\\n\\t \\\n",
    "    'The given dog age <input_value> is <calculated_age> in human years.'\")\n",
    "print(\"Success!\")"
   ]
  },
  {
   "cell_type": "code",
   "execution_count": null,
   "metadata": {
    "deletable": false,
    "editable": false,
    "nbgrader": {
     "cell_type": "code",
     "checksum": "bbc59d4490c9789e160aa47f317ec55a",
     "grade": true,
     "grade_id": "test_3",
     "locked": true,
     "points": 1,
     "schema_version": 3,
     "solution": false,
     "task": false
    }
   },
   "outputs": [],
   "source": [
    "##########################\n",
    "### TEST YOUR SOLUTION ###\n",
    "##########################\n",
    "import checker\n",
    "checker.calculator = calculator\n",
    "\n",
    "print(\"Received the below output from your program:\\n---------------\\n'{}'\".format(checker.test_three(3)))    \n",
    "checker.assert_almost_equal(checker.parse_dog_age(checker.test_three(3)), 27.9,\n",
    "            \"Expected a 3 year old dog to be 27.9 in human years. Make sure your print statement is formatted as:\\n\\t \\\n",
    "    'The given dog age <input_value> is <calculated_age> in human years.'\")\n",
    "print(\"Success!\")"
   ]
  },
  {
   "cell_type": "code",
   "execution_count": null,
   "metadata": {
    "deletable": false,
    "editable": false,
    "nbgrader": {
     "cell_type": "code",
     "checksum": "74669071a7681986924e8c615a7fe767",
     "grade": true,
     "grade_id": "test_4",
     "locked": true,
     "points": 1,
     "schema_version": 3,
     "solution": false,
     "task": false
    }
   },
   "outputs": [],
   "source": [
    "##########################\n",
    "### TEST YOUR SOLUTION ###\n",
    "##########################\n",
    "import checker\n",
    "checker.calculator = calculator\n",
    "\n",
    "print(\"Received the below output from your program:\\n---------------\\n'{}'\".format(checker.test_four(4)))    \n",
    "checker.assert_almost_equal(checker.parse_dog_age(checker.test_four(4)), 32,\n",
    "            \"Expected a 4 year old dog to be 32.0 in human years. Make sure your print statement is formatted as:\\n\\t \\\n",
    "    'The given dog age <input_value> is <calculated_age> in human years.'\")\n",
    "print(\"Success!\")"
   ]
  },
  {
   "cell_type": "code",
   "execution_count": null,
   "metadata": {
    "deletable": false,
    "editable": false,
    "nbgrader": {
     "cell_type": "code",
     "checksum": "b031f0347577c638d0df30c0d8c30684",
     "grade": true,
     "grade_id": "test_5",
     "locked": true,
     "points": 1,
     "schema_version": 3,
     "solution": false,
     "task": false
    }
   },
   "outputs": [],
   "source": [
    "##########################\n",
    "### TEST YOUR SOLUTION ###\n",
    "##########################\n",
    "import checker\n",
    "checker.calculator = calculator\n",
    "\n",
    "print(\"Received the below output from your program:\\n---------------\\n'{}'\".format(checker.test_five(5)))    \n",
    "checker.assert_almost_equal(checker.parse_dog_age(checker.test_five(5)), 36,\n",
    "            \"Expected a 5 year old dog to be 36.0 in human years. Make sure your print statement is formatted as:\\n\\t \\\n",
    "    'The given dog age <input_value> is <calculated_age> in human years.'\")\n",
    "print(\"Success!\")"
   ]
  },
  {
   "cell_type": "code",
   "execution_count": null,
   "metadata": {
    "deletable": false,
    "editable": false,
    "nbgrader": {
     "cell_type": "code",
     "checksum": "b2a40bb5be7ad99e0c6f48daef70d35a",
     "grade": true,
     "grade_id": "test_6",
     "locked": true,
     "points": 1,
     "schema_version": 3,
     "solution": false,
     "task": false
    }
   },
   "outputs": [],
   "source": [
    "##########################\n",
    "### TEST YOUR SOLUTION ###\n",
    "##########################\n",
    "import checker\n",
    "checker.calculator = calculator\n",
    "\n",
    "print(\"Received the below output from your program:\\n---------------\\n'{}'\".format(checker.test_six(6)))    \n",
    "checker.assert_almost_equal(checker.parse_dog_age(checker.test_six(6)), 43,\n",
    "            \"Expected a 6 year old dog to be 43.0 in human years. Make sure your print statement is formatted as:\\n\\t \\\n",
    "    'The given dog age <input_value> is <calculated_age> in human years.'\")\n",
    "print(\"Success!\")"
   ]
  },
  {
   "cell_type": "code",
   "execution_count": null,
   "metadata": {
    "deletable": false,
    "editable": false,
    "nbgrader": {
     "cell_type": "code",
     "checksum": "e6317a978f3cccc68c484c089e8da6df",
     "grade": true,
     "grade_id": "test_7",
     "locked": true,
     "points": 1,
     "schema_version": 3,
     "solution": false,
     "task": false
    }
   },
   "outputs": [],
   "source": [
    "##########################\n",
    "### TEST YOUR SOLUTION ###\n",
    "##########################\n",
    "import checker\n",
    "checker.calculator = calculator\n",
    "\n",
    "print(\"Received the below output from your program:\\n---------------\\n'{}'\".format(checker.test_seven(7)))\n",
    "checker.assert_almost_equal(checker.parse_dog_age(checker.test_seven(7)), 50.0,\n",
    "            \"Expected a 7 year old dog to be 50.0 in human years. Make sure your print statement is formatted as:\\n\\t \\\n",
    "    'The given dog age <input_value> is <calculated_age> in human years.'\")\n",
    "print(\"Success!\")"
   ]
  },
  {
   "cell_type": "code",
   "execution_count": null,
   "metadata": {
    "deletable": false,
    "editable": false,
    "nbgrader": {
     "cell_type": "code",
     "checksum": "1f5a4cb6144844d1554382978f021e73",
     "grade": true,
     "grade_id": "test_8",
     "locked": true,
     "points": 1,
     "schema_version": 3,
     "solution": false,
     "task": false
    }
   },
   "outputs": [],
   "source": [
    "##########################\n",
    "### TEST YOUR SOLUTION ###\n",
    "##########################\n",
    "import checker\n",
    "checker.calculator = calculator\n",
    "\n",
    "print(\"Received the below output from your program:\\n---------------\\n'{}'\".format(checker.test_twopointfive(2.5)))    \n",
    "checker.assert_true(checker.parse_dog_age(checker.test_twopointfive(2.5)) >= 23 and \n",
    "                    checker.parse_dog_age(checker.test_twopointfive(2.5)) <= 29, \n",
    "            \"Expected a 2.5 year old dog to be between 23 and 29 in human years. Make sure your print statement is formatted as:\\n\\t \\\n",
    "    'The given dog age <input_value> is <calculated_age> in human years.'\")\n",
    "print(\"Success!\")"
   ]
  },
  {
   "cell_type": "code",
   "execution_count": null,
   "metadata": {
    "deletable": false,
    "editable": false,
    "nbgrader": {
     "cell_type": "code",
     "checksum": "ab3caa9ccae4824d05eb7f4497df63e7",
     "grade": true,
     "grade_id": "test_negative",
     "locked": true,
     "points": 1,
     "schema_version": 3,
     "solution": false,
     "task": false
    }
   },
   "outputs": [],
   "source": [
    "##########################\n",
    "### TEST YOUR SOLUTION ###\n",
    "##########################\n",
    "import checker\n",
    "checker.calculator = calculator\n",
    "\n",
    "print(\"Received the below output from your program:\\n---------------\\n'{}'\".format(checker.test_negative(-1)))    \n",
    "checker.assert_true('negative' in checker.test_negative(-1).lower(), \"Make sure negative inputs print out a message containing the word negative!\")\n",
    "print(\"Success!\")"
   ]
  },
  {
   "cell_type": "code",
   "execution_count": null,
   "metadata": {
    "deletable": false,
    "editable": false,
    "nbgrader": {
     "cell_type": "code",
     "checksum": "60d9bb0660912b1549e45cba39ad512c",
     "grade": true,
     "grade_id": "test_invalid",
     "locked": true,
     "points": 1,
     "schema_version": 3,
     "solution": false,
     "task": false
    }
   },
   "outputs": [],
   "source": [
    "##########################\n",
    "### TEST YOUR SOLUTION ###\n",
    "##########################\n",
    "import checker\n",
    "checker.calculator = calculator    \n",
    "\n",
    "print(\"Received the below output from your program:\\n---------------\\n'{}'\".format(checker.test_text_input('n')))    \n",
    "checker.assert_true('invalid' in checker.test_text_input('n').lower(), \"Make sure text inputs print out a message containing the word invalid!\")\n",
    "print(\"Success!\")"
   ]
  }
 ],
 "metadata": {
  "kernelspec": {
   "display_name": "Python 3",
   "language": "python",
   "name": "python3"
  },
  "language_info": {
   "codemirror_mode": {
    "name": "ipython",
    "version": 3
   },
   "file_extension": ".py",
   "mimetype": "text/x-python",
   "name": "python",
   "nbconvert_exporter": "python",
   "pygments_lexer": "ipython3",
   "version": "3.7.6"
  }
 },
 "nbformat": 4,
 "nbformat_minor": 2
}
